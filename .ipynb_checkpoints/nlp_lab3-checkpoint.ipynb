{
 "cells": [
  {
   "cell_type": "markdown",
   "id": "c44af6a8",
   "metadata": {},
   "source": [
    "##### Manikanta Gangam\n",
    "##### E21CSEU0947\n",
    "##### EB13\n",
    "##### Lab 3"
   ]
  },
  {
   "cell_type": "code",
   "execution_count": 1,
   "id": "6f3f7310",
   "metadata": {},
   "outputs": [],
   "source": [
    "from collections import defaultdict\n",
    "import random"
   ]
  },
  {
   "cell_type": "markdown",
   "id": "f6ec68a6",
   "metadata": {},
   "source": [
    "##### Task 1: Data Preparation on the given corpus:"
   ]
  },
  {
   "cell_type": "code",
   "execution_count": 2,
   "id": "255f4829",
   "metadata": {},
   "outputs": [],
   "source": [
    "corpus = [\n",
    "    \"The sun sets over the horizon, painting the sky with hues of orange and pink.\",\n",
    "    \"In the heart of the forest, a gentle breeze rustles the leaves.\",\n",
    "    \"She walked along the sandy shore, feeling the cool water on her feet.\",\n",
    "    \"The old bookshop on the corner is filled with stories waiting to be discovered.\",\n",
    "    \"As the rain falls outside, I sit by the window with a cup of hot tea.\"\n",
    "]\n",
    "\n",
    "tokenized_corpus = [sentence.split() for sentence in corpus]"
   ]
  },
  {
   "cell_type": "code",
   "execution_count": 3,
   "id": "fe2939d7",
   "metadata": {},
   "outputs": [
    {
     "name": "stdout",
     "output_type": "stream",
     "text": [
      "[['The', 'sun', 'sets', 'over', 'the', 'horizon,', 'painting', 'the', 'sky', 'with', 'hues', 'of', 'orange', 'and', 'pink.'], ['In', 'the', 'heart', 'of', 'the', 'forest,', 'a', 'gentle', 'breeze', 'rustles', 'the', 'leaves.'], ['She', 'walked', 'along', 'the', 'sandy', 'shore,', 'feeling', 'the', 'cool', 'water', 'on', 'her', 'feet.'], ['The', 'old', 'bookshop', 'on', 'the', 'corner', 'is', 'filled', 'with', 'stories', 'waiting', 'to', 'be', 'discovered.'], ['As', 'the', 'rain', 'falls', 'outside,', 'I', 'sit', 'by', 'the', 'window', 'with', 'a', 'cup', 'of', 'hot', 'tea.']]\n"
     ]
    }
   ],
   "source": [
    "print(tokenized_corpus)"
   ]
  },
  {
   "cell_type": "markdown",
   "id": "2cbbd4dd",
   "metadata": {},
   "source": [
    "##### Task 2: Build the N-Gram Model"
   ]
  },
  {
   "cell_type": "code",
   "execution_count": 4,
   "id": "758fbbd6",
   "metadata": {},
   "outputs": [],
   "source": [
    "def generate_ngrams(words, n):\n",
    "    ngrams = []\n",
    "    for i in range(len(words) - n + 1):\n",
    "        ngram = tuple(words[i:i+n])\n",
    "        ngrams.append(ngram)\n",
    "    return ngrams"
   ]
  },
  {
   "cell_type": "code",
   "execution_count": 5,
   "id": "44e51adf",
   "metadata": {},
   "outputs": [],
   "source": [
    "def build_ngram_model(tokenized_corpus, n):\n",
    "    ngram_model = defaultdict(dict)\n",
    "    \n",
    "    for sentence in tokenized_corpus:\n",
    "        ngrams = generate_ngrams(sentence, n)\n",
    "        for i in range(len(ngrams) - 1):\n",
    "            prefix = ngrams[i][:-1]\n",
    "            next_word = ngrams[i][-1]\n",
    "            if next_word in ngram_model[prefix]:\n",
    "                ngram_model[prefix][next_word] += 1\n",
    "            else:\n",
    "                ngram_model[prefix][next_word] = 1\n",
    "                \n",
    "    return ngram_model"
   ]
  },
  {
   "cell_type": "code",
   "execution_count": 6,
   "id": "c20a9e55",
   "metadata": {},
   "outputs": [],
   "source": [
    "ngram_model = build_ngram_model(tokenized_corpus, n=2)"
   ]
  },
  {
   "cell_type": "code",
   "execution_count": 7,
   "id": "72377287",
   "metadata": {},
   "outputs": [],
   "source": [
    "# ngram_model"
   ]
  },
  {
   "cell_type": "markdown",
   "id": "05e7d9c3",
   "metadata": {},
   "source": [
    "##### Task 3: Generate Text with Unseen Data"
   ]
  },
  {
   "cell_type": "code",
   "execution_count": 8,
   "id": "3050e0bf",
   "metadata": {},
   "outputs": [],
   "source": [
    "# def predict_next_word_with_smoothing(ngram_model, prefix):\n",
    "#     if prefix in ngram_model:\n",
    "#         next_words = ngram_model[prefix]\n",
    "#         total_count = sum(next_words.values())\n",
    "#         probabilities = {word: (count + 1) / (total_count + len(next_words)) for word, count in next_words.items()}\n",
    "#         return random.choices(list(probabilities.keys()), list(probabilities.values()))[0]\n",
    "#     else:\n",
    "#         return None"
   ]
  },
  {
   "cell_type": "code",
   "execution_count": 9,
   "id": "4612201e",
   "metadata": {},
   "outputs": [],
   "source": [
    "def predict_next_word_with_smoothing(ngram_model, prefix):\n",
    "    if prefix in ngram_model:\n",
    "        next_words = ngram_model[prefix]\n",
    "        total_count = sum(next_words.values())\n",
    "        probabilities = {word: (count + 1) / (total_count + len(next_words)) for word, count in next_words.items()}\n",
    "        max_prob_word = max(probabilities, key=probabilities.get)\n",
    "        return max_prob_word\n",
    "    else:\n",
    "        return None"
   ]
  },
  {
   "cell_type": "code",
   "execution_count": 15,
   "id": "37b5bc8c",
   "metadata": {},
   "outputs": [],
   "source": [
    "def generate_text_with_unseen_data(ngram_model, n, test_prefix, max_length=10):\n",
    "    generated_text = list(test_prefix)\n",
    "    \n",
    "    for _ in range(max_length - n + 1):\n",
    "        next_word = predict_next_word_with_smoothing(ngram_model, tuple(generated_text[-n+1:]))\n",
    "        if next_word is not None:\n",
    "            generated_text.append(next_word)\n",
    "        else:\n",
    "            break\n",
    "    \n",
    "    return \" \".join(generated_text)"
   ]
  },
  {
   "cell_type": "code",
   "execution_count": 11,
   "id": "12ff0c73",
   "metadata": {},
   "outputs": [],
   "source": [
    "# def generate_text_with_unseen_data(ngram_model, n, test_prefix):\n",
    "#     next_word = predict_next_word_with_smoothing(ngram_model, tuple(test_prefix[-n+1:]))\n",
    "#     return next_word if next_word is not None else \"No prediction available\""
   ]
  },
  {
   "cell_type": "code",
   "execution_count": 17,
   "id": "beae6aa4",
   "metadata": {},
   "outputs": [],
   "source": [
    "test_prefix_1 = [\"The\", \"rain\", \"falls\"]\n",
    "test_prefix_2 = [\"The\", \"old\", \"bookshop\"]"
   ]
  },
  {
   "cell_type": "code",
   "execution_count": 18,
   "id": "ba1e5333",
   "metadata": {},
   "outputs": [],
   "source": [
    "generated_text_1 = generate_text_with_unseen_data(ngram_model, n=2, test_prefix=test_prefix_1)\n",
    "generated_text_2 = generate_text_with_unseen_data(ngram_model, n=2, test_prefix=test_prefix_2)"
   ]
  },
  {
   "cell_type": "code",
   "execution_count": 19,
   "id": "3e07bb0d",
   "metadata": {},
   "outputs": [
    {
     "name": "stdout",
     "output_type": "stream",
     "text": [
      "Generated Text 1: The rain falls outside, I sit by the horizon, painting the horizon,\n",
      "Generated Text 2: The old bookshop on her\n"
     ]
    }
   ],
   "source": [
    "print(\"Generated Text 1:\", generated_text_1)\n",
    "print(\"Generated Text 2:\", generated_text_2)"
   ]
  },
  {
   "cell_type": "code",
   "execution_count": null,
   "id": "a841af75",
   "metadata": {},
   "outputs": [],
   "source": []
  }
 ],
 "metadata": {
  "kernelspec": {
   "display_name": "Python 3 (ipykernel)",
   "language": "python",
   "name": "python3"
  },
  "language_info": {
   "codemirror_mode": {
    "name": "ipython",
    "version": 3
   },
   "file_extension": ".py",
   "mimetype": "text/x-python",
   "name": "python",
   "nbconvert_exporter": "python",
   "pygments_lexer": "ipython3",
   "version": "3.9.12"
  }
 },
 "nbformat": 4,
 "nbformat_minor": 5
}
